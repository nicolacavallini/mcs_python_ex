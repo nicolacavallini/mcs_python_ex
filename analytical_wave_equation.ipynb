{
 "cells": [
  {
   "cell_type": "markdown",
   "metadata": {},
   "source": [
    "# Analytical Wave Equation"
   ]
  },
  {
   "cell_type": "markdown",
   "metadata": {},
   "source": [
    "$\\partial_{tt} u = \\partial_{xx} u$"
   ]
  },
  {
   "cell_type": "markdown",
   "metadata": {},
   "source": [
    "The wave **_acceleration_** ($\\partial_{tt}u$) equals the wave\n",
    "**_concavity_** ($\\partial_{xx}u$)."
   ]
  },
  {
   "cell_type": "code",
   "execution_count": null,
   "metadata": {
    "collapsed": false
   },
   "outputs": [],
   "source": [
    "import numpy as np\n",
    "import wave_eq as we\n",
    "import fourier_utils as fu\n",
    "import initial_conditions as ic\n",
    "c = 1\n",
    "L = 5\n",
    "\n",
    "order = np.arange(0,40)    \n",
    "x = np.linspace(0,L,200)\n",
    "time = np.linspace(0,12,300)\n",
    "\n",
    "fx = ic.define_discontinuous(x,L)\n",
    "\n",
    "omega = np.pi/L\n",
    "ak, bk = fu.eval_fourier_coeffs(order,np.hstack([-1*fx[::-1],fx]),np.hstack([-1*x[::-1],x]))\n",
    "sol = we.evaluate_solution(omega,c,time,x,bk,order)\n",
    "    \n",
    "we.plot_solution(time,x,sol)"
   ]
  },
  {
   "cell_type": "code",
   "execution_count": null,
   "metadata": {
    "collapsed": false
   },
   "outputs": [],
   "source": []
  }
 ],
 "metadata": {
  "kernelspec": {
   "display_name": "Python 2",
   "language": "python",
   "name": "python2"
  },
  "language_info": {
   "codemirror_mode": {
    "name": "ipython",
    "version": 2
   },
   "file_extension": ".py",
   "mimetype": "text/x-python",
   "name": "python",
   "nbconvert_exporter": "python",
   "pygments_lexer": "ipython2",
   "version": "2.7.10"
  }
 },
 "nbformat": 4,
 "nbformat_minor": 0
}
