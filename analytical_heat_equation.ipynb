{
 "metadata": {
  "name": "",
  "signature": "sha256:a7debca824fbed65522e54f72a61b99c156af0fd201cbfc8aecdd708b8852f32"
 },
 "nbformat": 3,
 "nbformat_minor": 0,
 "worksheets": [
  {
   "cells": [
    {
     "cell_type": "heading",
     "level": 1,
     "metadata": {},
     "source": [
      "Analytical Heat Equation"
     ]
    },
    {
     "cell_type": "markdown",
     "metadata": {},
     "source": [
      "$\\partial_{t}u = \\partial_{xx}u$"
     ]
    },
    {
     "cell_type": "markdown",
     "metadata": {},
     "source": [
      "The temperature **_velocity_** ($\\partial_{t}u$) equals the temperature\n",
      "**_concavity_** ($\\partial_{xx}u$)."
     ]
    },
    {
     "cell_type": "code",
     "collapsed": false,
     "input": [
      "import numpy as np\n",
      "import heat_eq as he\n",
      "import fourier_utils as fu\n",
      "import initial_conditions as ic\n",
      "c = 1\n",
      "L = 5\n",
      "\n",
      "order = np.arange(0,100)\n",
      "x = np.linspace(0,L,400)\n",
      "time = np.linspace(0,.1,10)\n",
      "\n",
      "fx = ic.define_discontinuous(x,L)\n",
      "\n",
      "omega = np.pi/L\n",
      "ak, bk = fu.eval_fourier_coeffs(order,np.hstack([-1*fx[::-1],fx]),np.hstack([-1*x[::-1],x]))\n",
      "sol = he.evaluate_solution(omega,c,time,x,bk,order)\n",
      "he.plot_solution(time,x,sol)"
     ],
     "language": "python",
     "metadata": {},
     "outputs": [],
     "prompt_number": 8
    },
    {
     "cell_type": "code",
     "collapsed": false,
     "input": [
      "\n"
     ],
     "language": "python",
     "metadata": {},
     "outputs": []
    }
   ],
   "metadata": {}
  }
 ]
}